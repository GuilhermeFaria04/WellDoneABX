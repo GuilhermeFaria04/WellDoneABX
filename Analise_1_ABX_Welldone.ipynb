{
  "nbformat": 4,
  "nbformat_minor": 0,
  "metadata": {
    "colab": {
      "provenance": [],
      "authorship_tag": "ABX9TyN/oNFxfdUju1XBQIw0rT6L",
      "include_colab_link": true
    },
    "kernelspec": {
      "name": "python3",
      "display_name": "Python 3"
    },
    "language_info": {
      "name": "python"
    }
  },
  "cells": [
    {
      "cell_type": "markdown",
      "metadata": {
        "id": "view-in-github",
        "colab_type": "text"
      },
      "source": [
        "<a href=\"https://colab.research.google.com/github/lucasrabd/WellDoneABX/blob/main/Analise_1_ABX_Welldone.ipynb\" target=\"_parent\"><img src=\"https://colab.research.google.com/assets/colab-badge.svg\" alt=\"Open In Colab\"/></a>"
      ]
    },
    {
      "cell_type": "markdown",
      "source": [
        "\n",
        "**Análise de Dados para ABX Tecnologia: Google Colab Notebook**"
      ],
      "metadata": {
        "id": "pjr_TZ7yyz9k"
      }
    },
    {
      "cell_type": "markdown",
      "source": [
        "#Introdução\n",
        "\n",
        "Neste notebook Colab, vamos realizar uma análise descritiva dos dados do dataset solicitacoescredito.csv, focando na identificação de padrões e tendências relacionadas à inadimplência dos clientes da ABX Tecnologia. A análise será realizada em etapas, desde a importação e pré-processamento dos dados até a visualização e interpretação dos resultados."
      ],
      "metadata": {
        "id": "cNXV739Oy9EA"
      }
    },
    {
      "cell_type": "markdown",
      "source": [
        "####Importando bibliotecas necessárias para o funcionamento do código."
      ],
      "metadata": {
        "id": "C--ATW96zQEa"
      }
    },
    {
      "cell_type": "code",
      "execution_count": 6,
      "metadata": {
        "id": "Js7OF4OCxtGt"
      },
      "outputs": [],
      "source": [
        "import pandas as pd\n",
        "import numpy as np\n",
        "import matplotlib.pyplot as plt\n",
        "import seaborn as sns"
      ]
    },
    {
      "cell_type": "markdown",
      "source": [
        "####Importando os dados necessários da tabela.\n"
      ],
      "metadata": {
        "id": "enLTAyZozleh"
      }
    },
    {
      "cell_type": "code",
      "source": [
        "# Importação do dataset\n",
        "df = pd.read_csv(\"/content/Tabela/solicitacoescredito.csv\")\n",
        "\n",
        "# Análise descritiva dos dados\n",
        "df.describe()\n",
        "\n",
        "# Identificação de valores ausentes\n",
        "df.isnull().sum()\n",
        "\n",
        "# Conversão de variáveis categóricas em dummies\n",
        "df_dummies = pd.get_dummies(df)"
      ],
      "metadata": {
        "id": "UpP1lK5Azth4"
      },
      "execution_count": 9,
      "outputs": []
    },
    {
      "cell_type": "markdown",
      "source": [
        "####Distribuição de Débito por cliente.\n"
      ],
      "metadata": {
        "id": "dhcOCOY3z3nB"
      }
    },
    {
      "cell_type": "code",
      "source": [],
      "metadata": {
        "id": "NBgALJrI0LxZ"
      },
      "execution_count": null,
      "outputs": []
    }
  ]
}